{
 "cells": [
  {
   "cell_type": "code",
   "execution_count": 1,
   "metadata": {
    "collapsed": true
   },
   "outputs": [],
   "source": [
    "%load_ext autoreload\n",
    "%autoreload 2"
   ]
  },
  {
   "cell_type": "code",
   "execution_count": 207,
   "metadata": {},
   "outputs": [],
   "source": [
    "from keras.layers import Input, Dense\n",
    "from keras.layers.merge import concatenate\n",
    "from keras.models import Model\n",
    "from keras.optimizers import Adam\n",
    "from keras.regularizers import l2\n",
    "from keras.utils.vis_utils import plot_model\n",
    "from keras_tqdm import TQDMNotebookCallback"
   ]
  },
  {
   "cell_type": "code",
   "execution_count": 477,
   "metadata": {},
   "outputs": [],
   "source": [
    "import feather\n",
    "import matplotlib.pyplot as plt\n",
    "import numpy as np\n",
    "import pandas as pd\n",
    "import seaborn as sns\n",
    "from sklearn.model_selection import train_test_split\n",
    "from sklearn.preprocessing import StandardScaler\n",
    "\n",
    "%matplotlib inline\n",
    "sns.set(style='darkgrid')"
   ]
  },
  {
   "cell_type": "code",
   "execution_count": 8,
   "metadata": {
    "collapsed": true
   },
   "outputs": [],
   "source": [
    "# import data"
   ]
  },
  {
   "cell_type": "code",
   "execution_count": 9,
   "metadata": {
    "collapsed": true
   },
   "outputs": [],
   "source": [
    "flights = feather.read_dataframe('../data/flights-2008-sample.feather')"
   ]
  },
  {
   "cell_type": "code",
   "execution_count": 10,
   "metadata": {
    "collapsed": true
   },
   "outputs": [],
   "source": [
    "# define X, y"
   ]
  },
  {
   "cell_type": "code",
   "execution_count": 279,
   "metadata": {},
   "outputs": [],
   "source": [
    "X = flights[['DayOfWeek', 'DayofMonth', 'Month', 'ScheduledDepTimestamp', 'Origin', 'Dest', 'UniqueCarrier']].copy()\n",
    "y = flights['total_delay'].copy()"
   ]
  },
  {
   "cell_type": "code",
   "execution_count": 480,
   "metadata": {
    "collapsed": true
   },
   "outputs": [],
   "source": [
    "# encode categorical variables as dummies\n",
    "# mention that we tried as value counts, but why we decided against"
   ]
  },
  {
   "cell_type": "code",
   "execution_count": 281,
   "metadata": {},
   "outputs": [],
   "source": [
    "one_hot_matrices = []\n",
    "for col in filter(lambda col: col != 'ScheduledDepTimestamp', X.columns):\n",
    "    one_hot_matrices.append( pd.get_dummies(X[col]) )\n",
    "\n",
    "X = pd.concat(one_hot_matrices, axis=1)"
   ]
  },
  {
   "cell_type": "code",
   "execution_count": 282,
   "metadata": {
    "collapsed": true
   },
   "outputs": [],
   "source": [
    "# normalize X columns, log-transform y"
   ]
  },
  {
   "cell_type": "code",
   "execution_count": 283,
   "metadata": {
    "collapsed": true
   },
   "outputs": [],
   "source": [
    "X = StandardScaler().fit_transform(X)\n",
    "y = np.log(y + 1).values"
   ]
  },
  {
   "cell_type": "code",
   "execution_count": 284,
   "metadata": {
    "collapsed": true
   },
   "outputs": [],
   "source": [
    "# split into train, validation, test sets"
   ]
  },
  {
   "cell_type": "code",
   "execution_count": 285,
   "metadata": {},
   "outputs": [
    {
     "name": "stdout",
     "output_type": "stream",
     "text": [
      "Dataset sizes:\n",
      "    Train:      (30000, 654)\n",
      "    Validation: (10000, 654)\n",
      "    Test:       (10000, 654)\n"
     ]
    }
   ],
   "source": [
    "X_train, X_test, y_train, y_test = train_test_split(X, y, test_size=20000, random_state=42)\n",
    "X_val, X_test, y_val, y_test = train_test_split(X_test, y_test, test_size=10000, random_state=42)\n",
    "\n",
    "print('Dataset sizes:')\n",
    "print('    Train:      {}'.format(X_train.shape))\n",
    "print('    Validation: {}'.format(X_val.shape))\n",
    "print('    Test:       {}'.format(X_test.shape))"
   ]
  },
  {
   "cell_type": "code",
   "execution_count": 225,
   "metadata": {
    "collapsed": true
   },
   "outputs": [],
   "source": [
    "# build two simple models\n",
    "\n",
    "## first model"
   ]
  },
  {
   "cell_type": "code",
   "execution_count": 286,
   "metadata": {
    "collapsed": true
   },
   "outputs": [],
   "source": [
    "input_dim = X.shape[1]\n",
    "lr = .001"
   ]
  },
  {
   "cell_type": "code",
   "execution_count": 391,
   "metadata": {},
   "outputs": [],
   "source": [
    "input_layer = Input((input_dim,), dtype='float32', name='input')\n",
    "regression_dense = Dense(144, activation='relu', kernel_regularizer=l2(0.01))(input_layer)\n",
    "regression_output = Dense(1, activation='linear', name='regression_output', kernel_regularizer=l2(0.01))(regression_dense)\n",
    "\n",
    "is_0_dense = Dense(144, activation='relu', kernel_regularizer=l2(0.01))(input_layer)\n",
    "is_0_output = Dense(1, activation='sigmoid', name='is_0_output', kernel_regularizer=l2(0.01))(is_0_dense)"
   ]
  },
  {
   "cell_type": "code",
   "execution_count": 392,
   "metadata": {
    "collapsed": true
   },
   "outputs": [],
   "source": [
    "model = Model(inputs=[input_layer], outputs=[regression_output, is_0_output])\n",
    "loss_dict = loss={'regression_output': 'mean_squared_logarithmic_error', 'is_0_output': 'binary_crossentropy'}\n",
    "loss_weights_dict = {'regression_output': 1., 'is_0_output': 0.5}\n",
    "\n",
    "model.compile(optimizer=Adam(lr=lr), loss=loss_dict, loss_weights=loss_weights_dict)"
   ]
  },
  {
   "cell_type": "code",
   "execution_count": 393,
   "metadata": {},
   "outputs": [
    {
     "name": "stdout",
     "output_type": "stream",
     "text": [
      "____________________________________________________________________________________________________\n",
      "Layer (type)                     Output Shape          Param #     Connected to                     \n",
      "====================================================================================================\n",
      "input (InputLayer)               (None, 654)           0                                            \n",
      "____________________________________________________________________________________________________\n",
      "dense_25 (Dense)                 (None, 144)           94320                                        \n",
      "____________________________________________________________________________________________________\n",
      "dense_26 (Dense)                 (None, 144)           94320                                        \n",
      "____________________________________________________________________________________________________\n",
      "regression_output (Dense)        (None, 1)             145                                          \n",
      "____________________________________________________________________________________________________\n",
      "is_0_output (Dense)              (None, 1)             145                                          \n",
      "====================================================================================================\n",
      "Total params: 188,930.0\n",
      "Trainable params: 188,930.0\n",
      "Non-trainable params: 0.0\n",
      "____________________________________________________________________________________________________\n"
     ]
    }
   ],
   "source": [
    "model.summary()"
   ]
  },
  {
   "cell_type": "code",
   "execution_count": 325,
   "metadata": {
    "collapsed": true
   },
   "outputs": [],
   "source": [
    "model.optimizer.lr.set_value(.01)"
   ]
  },
  {
   "cell_type": "code",
   "execution_count": 394,
   "metadata": {},
   "outputs": [
    {
     "data": {
      "application/vnd.jupyter.widget-view+json": {
       "model_id": "a587afeddb6d4a378f0a0f3aa7e3e999"
      }
     },
     "metadata": {},
     "output_type": "display_data"
    },
    {
     "data": {
      "application/vnd.jupyter.widget-view+json": {
       "model_id": "f8c4eed571734709a4e3de5557843c01"
      }
     },
     "metadata": {},
     "output_type": "display_data"
    },
    {
     "data": {
      "application/vnd.jupyter.widget-view+json": {
       "model_id": "2f978c0b592b4515b5b95670a5eed8b1"
      }
     },
     "metadata": {},
     "output_type": "display_data"
    },
    {
     "data": {
      "application/vnd.jupyter.widget-view+json": {
       "model_id": "703c9fda36c1463f83ec618a1e263679"
      }
     },
     "metadata": {},
     "output_type": "display_data"
    },
    {
     "data": {
      "application/vnd.jupyter.widget-view+json": {
       "model_id": "089f6756f2d14fdab9b2cc059f253e84"
      }
     },
     "metadata": {},
     "output_type": "display_data"
    },
    {
     "data": {
      "application/vnd.jupyter.widget-view+json": {
       "model_id": "2947ae191da646bc960103ff0a124804"
      }
     },
     "metadata": {},
     "output_type": "display_data"
    },
    {
     "data": {
      "application/vnd.jupyter.widget-view+json": {
       "model_id": "1004ef870f9c4876a064317dfadd100f"
      }
     },
     "metadata": {},
     "output_type": "display_data"
    },
    {
     "data": {
      "application/vnd.jupyter.widget-view+json": {
       "model_id": "562038bec3d04932923e0d739e283e60"
      }
     },
     "metadata": {},
     "output_type": "display_data"
    },
    {
     "data": {
      "application/vnd.jupyter.widget-view+json": {
       "model_id": "4ab26aed8c314a5b98890f7699eded2c"
      }
     },
     "metadata": {},
     "output_type": "display_data"
    },
    {
     "data": {
      "application/vnd.jupyter.widget-view+json": {
       "model_id": "98da6a48118e4649b7c699881f439e75"
      }
     },
     "metadata": {},
     "output_type": "display_data"
    },
    {
     "data": {
      "application/vnd.jupyter.widget-view+json": {
       "model_id": "a4713fdf10ae443ab5270dbe3c66088b"
      }
     },
     "metadata": {},
     "output_type": "display_data"
    }
   ],
   "source": [
    "network_1 = model.fit(\n",
    "    x=X_train,\n",
    "    y=[y_train, y_train == 0],\n",
    "    batch_size=512, \n",
    "    epochs=10,\n",
    "    validation_data = (X_val, [y_val, y_val == 0]),\n",
    "    verbose=0,\n",
    "    callbacks=[TQDMNotebookCallback(leave_outer=False)]\n",
    ")"
   ]
  },
  {
   "cell_type": "code",
   "execution_count": 513,
   "metadata": {
    "collapsed": true
   },
   "outputs": [],
   "source": [
    "def prepare_history_for_plot(history):\n",
    "    results = pd.DataFrame({\n",
    "        'train': history.history['loss'],\n",
    "        'val': history.history['val_loss'],\n",
    "    })\n",
    "\n",
    "    results_long = pd.melt(results)\n",
    "    results_long.columns = ['dataset', 'loss']\n",
    "    results_long['epoch'] = 2*network_1.epoch\n",
    "    results_long['subject'] = 1\n",
    "    return results_long\n",
    "\n",
    "def plot_training_results(history):\n",
    "    results = prepare_history_for_plot(history)\n",
    "    plt.figure(figsize=(11, 7))\n",
    "    sns.tsplot(data=results, time='epoch', value='loss', condition='dataset', unit='subject')\n",
    "    plt.title('Training Loss by Epoch', fontsize=13)"
   ]
  },
  {
   "cell_type": "code",
   "execution_count": 514,
   "metadata": {},
   "outputs": [
    {
     "data": {
      "image/png": "[encoded data removed]",
      "text/plain": [
       "<matplotlib.figure.Figure at 0x128c81cc0>"
      ]
     },
     "metadata": {},
     "output_type": "display_data"
    }
   ],
   "source": [
    "plot_training_results(network_1)"
   ]
  }
 ],
 "metadata": {
  "kernelspec": {
   "display_name": "Python 3",
   "language": "python",
   "name": "python3"
  },
  "language_info": {
   "codemirror_mode": {
    "name": "ipython",
    "version": 3
   },
   "file_extension": ".py",
   "mimetype": "text/x-python",
   "name": "python",
   "nbconvert_exporter": "python",
   "pygments_lexer": "ipython3",
   "version": "3.5.3"
  }
 },
 "nbformat": 4,
 "nbformat_minor": 2
}
